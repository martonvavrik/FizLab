{
 "cells": [
  {
   "cell_type": "code",
   "execution_count": 6,
   "metadata": {},
   "outputs": [],
   "source": [
    "from scipy import io\n",
    "import matplotlib.pyplot as plt\n",
    "import numpy as np\n",
    "import glob\n",
    "#import csv"
   ]
  },
  {
   "cell_type": "markdown",
   "metadata": {},
   "source": [
    "This is a small converter script for the vsw file format used by the V-scope program, used at the 7th lab excersise.  \n",
    "Information about the lab excercise: https://fizipedia.bme.hu/index.php/Csatolt_ing%C3%A1k_vizsg%C3%A1lata_V-scope-pal  \n",
    "Don't forget to change the sample rate. Also, the program converts all files in its folder."
   ]
  },
  {
   "cell_type": "code",
   "execution_count": 11,
   "metadata": {},
   "outputs": [],
   "source": [
    "##import and write\n",
    "\n",
    "for in_name in glob.glob('*.vsw'):\n",
    "    samp=0.05\n",
    "    out_name=in_name[:-4]+\".txt\"\n",
    "    \n",
    "    out = open(out_name,\"w+\")\n",
    "    with open(in_name) as f:\n",
    "        for line in f:\n",
    "            k=[int(s) for s in line.split() if s.isdigit()]\n",
    "            if k != []:\n",
    "                k[0]=round(k[0]*samp,6)\n",
    "                out.write('{}'.format(k[0]))\n",
    "                for l in range(np.size(k)-1):\n",
    "                    k[l+1]=round(k[l+1]/10000-3,6)\n",
    "                    out.write(\"\\t\"+'{}'.format(k[l+1]))\n",
    "                #print (k)\n",
    "                out.write(\"\\n\")\n",
    "                #np.savetxt(\"50x.txt\", k, newline=\" \")\n",
    "    out.close()"
   ]
  }
 ],
 "metadata": {
  "kernelspec": {
   "display_name": "Python 3",
   "language": "python",
   "name": "python3"
  },
  "language_info": {
   "codemirror_mode": {
    "name": "ipython",
    "version": 3
   },
   "file_extension": ".py",
   "mimetype": "text/x-python",
   "name": "python",
   "nbconvert_exporter": "python",
   "pygments_lexer": "ipython3",
   "version": "3.6.5"
  }
 },
 "nbformat": 4,
 "nbformat_minor": 2
}
