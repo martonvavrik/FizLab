{
 "cells": [
  {
   "cell_type": "code",
   "execution_count": 7,
   "metadata": {},
   "outputs": [
    {
     "name": "stdout",
     "output_type": "stream",
     "text": [
      "caption: 4max\n",
      "label: 4max\n"
     ]
    }
   ],
   "source": [
    "import csv\n",
    "\n",
    "caption, label =  input('caption: '),input('label: ')#input('path: '), input('filename: '), path, filename,\n",
    "path = \"E:\\marci main\\\\bme\\Fizlab2\\8folykrist\"\n",
    "filename = \"aa.txt\"\n",
    "\n",
    "read_file = path+\"\\\\\"+filename\n",
    "\n",
    "lines = []\n",
    "\n",
    "col_number = 0\n",
    "\n",
    "with open(read_file) as tsv:\n",
    "    for line in csv.reader(tsv, delimiter=\"\\t\"):\n",
    "        line1 = []\n",
    "        for word in line[:-1]:\n",
    "            line1.append(word + ' & ')\n",
    "        line1.append(line[-1]+\" \\\\\\\\ \"+'\\\\'+'hline'+' \\n') #'\\n '+\n",
    "        lines.append(line1)\n",
    "    col_number=len(line)\n",
    "\n",
    "with open(path+\"\\\\\"+filename[:-4]+'_latex_formatted.txt', 'w') as f:\n",
    "    f.write('''\\\\begin{table}[!ht]\n",
    "\\\\centering\n",
    "\\\\begin{tabular}''')\n",
    "    f.write('{'+col_number * '|c' + '|}\\n' + '\\\\hline \\n')\n",
    "    for line in lines:\n",
    "        for word in line:\n",
    "            f.write(str(word))\n",
    "    f.write('''\\\\end{tabular}\n",
    "\\\\caption{''' + str(caption) + '''}\n",
    "\\\\label{''' + str(label) + '''}\n",
    "\\\\end{table}''')"
   ]
  }
 ],
 "metadata": {
  "kernelspec": {
   "display_name": "Python 3",
   "language": "python",
   "name": "python3"
  },
  "language_info": {
   "codemirror_mode": {
    "name": "ipython",
    "version": 3
   },
   "file_extension": ".py",
   "mimetype": "text/x-python",
   "name": "python",
   "nbconvert_exporter": "python",
   "pygments_lexer": "ipython3",
   "version": "3.6.5"
  }
 },
 "nbformat": 4,
 "nbformat_minor": 2
}
